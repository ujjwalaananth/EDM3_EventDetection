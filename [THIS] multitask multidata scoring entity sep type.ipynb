{
 "cells": [
  {
   "cell_type": "code",
   "execution_count": 103,
   "id": "tender-thinking",
   "metadata": {},
   "outputs": [],
   "source": [
    "import pandas as pd\n",
    "import numpy as np\n",
    "import jsonlines\n",
    "import json\n",
    "import os\n",
    "import re\n",
    "import matplotlib.pyplot as plt\n",
    "from sklearn.metrics import classification_report"
   ]
  },
  {
   "cell_type": "code",
   "execution_count": 179,
   "id": "forty-quarterly",
   "metadata": {},
   "outputs": [],
   "source": [
    "\n",
    "use_sent_mask=False\n",
    "if(use_sent_mask):\n",
    "    maskfolder='sent_classifier_wikievent_512_60_1bs_2DAYS'\n",
    "    mask=open('results/'+maskfolder+'/generated_predictions.txt').readlines()\n",
    "\n",
    "    \n",
    "using_binary_clf_top = False\n",
    "\n",
    "predfolder = 'multitask4mixbidspec2verbose2_prin_ml_1024_50_4bs_2DAYS'\n",
    "goldfolder = 'multitask4mix_bi'\n",
    "\n",
    "\n",
    "#lab='src21'\n",
    "lab=''\n",
    "relcol='src_label'\n",
    "\n",
    "golddf = pd.read_csv(goldfolder+'/testml.csv')\n",
    "#golddf = pd.read_csv(goldfolder+'/test.csv')\n",
    "#clfs = pd.read_csv(goldfolder+'/testcasieevclf.csv')\n",
    "\n",
    "\n",
    "ds = ''\n",
    "gold = golddf[relcol]\n",
    "#txt = golddf['text']\n",
    "#gold=gtype\n",
    "\n",
    "if('FIXED' not in predfolder):\n",
    "    \n",
    "    #if('tkinstr' in predfolder or 't5L' in predfolder):\n",
    "    #    pred = open('results/'+predfolder+'/test_generations.txt').readlines()\n",
    "    #    pred = [p[0:-1] for p in pred] # removing \\n suffix\n",
    "        \n",
    "    #else:\n",
    "    pred = open('results/'+predfolder+'/generated_predictions.txt').readlines()\n",
    "    pred[-1] = pred[-1]+'\\n'\n",
    "    pred = [p[2:-2] for p in pred] # removing b' prefix and \\n suffix\n",
    "\n",
    "if(using_binary_clf_top):\n",
    "    pred = open('results/'+predfolder+'/generated_predictions_new.txt').readlines()\n",
    "    print('fixed')\n",
    "pred = pd.Series(pred)\n",
    "labelsep = ' | ' # separates multiple entity+type combos\n",
    "\n",
    "termsep = '->' # separates entity and type"
   ]
  },
  {
   "cell_type": "code",
   "execution_count": 180,
   "id": "native-mission",
   "metadata": {},
   "outputs": [
    {
     "name": "stdout",
     "output_type": "stream",
     "text": [
      "2625 2625\n"
     ]
    }
   ],
   "source": [
    "print(len(gold),len(pred))"
   ]
  },
  {
   "cell_type": "code",
   "execution_count": 181,
   "id": "perfect-strand",
   "metadata": {},
   "outputs": [],
   "source": [
    "#pred[:-1]"
   ]
  },
  {
   "cell_type": "code",
   "execution_count": 182,
   "id": "plastic-storm",
   "metadata": {},
   "outputs": [],
   "source": [
    "#pred.iloc[-1]+'e'"
   ]
  },
  {
   "cell_type": "code",
   "execution_count": 183,
   "id": "regional-portsmouth",
   "metadata": {},
   "outputs": [
    {
     "data": {
      "text/plain": [
       "\"rem = pred.iloc[-1]+'e'\\npred = list(pred[:-1])\\npred.append('contact.threatencoerce')\\npred.append(rem+'e')\\n#+['contact.threatencoerce']+[rem+'e']\""
      ]
     },
     "execution_count": 183,
     "metadata": {},
     "output_type": "execute_result"
    }
   ],
   "source": [
    "'''rem = pred.iloc[-1]+'e'\n",
    "pred = list(pred[:-1])\n",
    "pred.append('contact.threatencoerce')\n",
    "pred.append(rem+'e')\n",
    "#+['contact.threatencoerce']+[rem+'e']'''"
   ]
  },
  {
   "cell_type": "code",
   "execution_count": 184,
   "id": "violent-review",
   "metadata": {},
   "outputs": [
    {
     "data": {
      "text/plain": [
       "0       planned_process | gene_expression | positive_r...\n",
       "1       metastases | results | inhibition | mediated |...\n",
       "2       inhibition->negative_regulation | transfer->pl...\n",
       "3       planned_process | blood_vessel_development | n...\n",
       "4                     Inhibition | therapy | angiogenesis\n",
       "                              ...                        \n",
       "2620                                   neovascularization\n",
       "2621         neovascularization->blood_vessel_development\n",
       "2622                                      planned_process\n",
       "2623                                       prefabrication\n",
       "2624                      prefabrication->planned_process\n",
       "Name: src_label, Length: 2625, dtype: object"
      ]
     },
     "execution_count": 184,
     "metadata": {},
     "output_type": "execute_result"
    }
   ],
   "source": [
    "gold"
   ]
  },
  {
   "cell_type": "code",
   "execution_count": 185,
   "id": "competitive-corps",
   "metadata": {},
   "outputs": [],
   "source": [
    "if(len(pred)>len(gold)):\n",
    "    pred = [p for p in pred if len(p)>0]"
   ]
  },
  {
   "cell_type": "code",
   "execution_count": 186,
   "id": "flush-union",
   "metadata": {},
   "outputs": [
    {
     "data": {
      "text/plain": [
       "(2625, 2625)"
      ]
     },
     "execution_count": 186,
     "metadata": {},
     "output_type": "execute_result"
    }
   ],
   "source": [
    "len(gold),len(pred)"
   ]
  },
  {
   "cell_type": "code",
   "execution_count": 187,
   "id": "amateur-replication",
   "metadata": {},
   "outputs": [
    {
     "data": {
      "text/plain": [
       "('The event triggers in this text are mediated, inhibition, growth, metastases, transfer, expression',\n",
       " 'The event triggers and their types in this text are: growth is a trigger of type growth, inhibition is a trigger of type negative_regulation, expression is a trigger of type gene_expression, transfer is a trigger of type planned_process, results is a trigger of type positive_regulation, mediated is a trigger of type positive_regulation, metastases is a trigger of type localization',\n",
       " 'The types of events in this text are negative_regulation, blood_vessel_development, planned_process')"
      ]
     },
     "execution_count": 187,
     "metadata": {},
     "output_type": "execute_result"
    }
   ],
   "source": [
    "pred[1],pred[2],pred[3]"
   ]
  },
  {
   "cell_type": "code",
   "execution_count": 188,
   "id": "passing-compact",
   "metadata": {},
   "outputs": [
    {
     "name": "stdout",
     "output_type": "stream",
     "text": [
      "0\n",
      "2625\n"
     ]
    }
   ],
   "source": [
    "\n",
    "if(use_sent_mask):\n",
    "    \n",
    "    pred_o = pred.copy()\n",
    "    pred=[]\n",
    "    for i,r in enumerate(pred_o):\n",
    "        if(mask[i][2:-2]=='False'):\n",
    "            #print('Found')\n",
    "            pred.append('NONE')\n",
    "        else:\n",
    "            pred.append(r)\n",
    "    ### the ones which are 0, conver preds to NONE\n",
    "\n",
    "print(len([p for p in pred if p=='NONE']))\n",
    "print(len(pred))"
   ]
  },
  {
   "cell_type": "code",
   "execution_count": null,
   "id": "above-magnet",
   "metadata": {},
   "outputs": [],
   "source": []
  },
  {
   "cell_type": "code",
   "execution_count": 189,
   "id": "beautiful-wilderness",
   "metadata": {},
   "outputs": [],
   "source": [
    "predz=[]\n",
    "sb = golddf['subtask']\n",
    "\n",
    "if('src21' in predfolder or lab=='src21'):\n",
    "    ## reversed outputs/ convert to src_label1 format\n",
    "    \n",
    "    for p in pred:\n",
    "        fin=[]\n",
    "        events = [x.strip() for x in p.split('|')]\n",
    "        for e in events:\n",
    "            #print(e)\n",
    "            if('->' not in e):\n",
    "                typ,trigs=['','']\n",
    "            else:\n",
    "                typ,trigs=e.split('->')[0:2]\n",
    "            \n",
    "            for tg in trigs.split('@'):\n",
    "                fin.append(tg+'->'+typ)\n",
    "        if(p.strip()=='->'):\n",
    "            predz.append('NONE')\n",
    "        else:\n",
    "            predz.append(' | '.join(fin))\n",
    "        \n",
    "    pred = predz.copy()\n",
    "\n",
    "    \n",
    "if('src12' in predfolder or lab=='src12'):\n",
    "    \n",
    "    for idx,p in enumerate(pred):\n",
    "        nm=[]\n",
    "        if('NONE' in p):\n",
    "            predz.append('NONE')\n",
    "            continue\n",
    "        \n",
    "        if('EV-EX' not in sb[idx]):\n",
    "            predz.append(p)\n",
    "            continue\n",
    "        events = [x.strip() for x in p.split('|')]\n",
    "        #print(events,sb.iloc[idx])\n",
    "        for e in events:\n",
    "            if('->' not in e):\n",
    "                continue\n",
    "            tg = e.split('->')[0]\n",
    "            tps = e.split('->')[1].split('@')\n",
    "            nm += [tg+'->'+p for p in tps]\n",
    "        if(len(nm)==0):\n",
    "            nm = ['NONE']\n",
    "        predz.append(' | '.join(nm))\n",
    "        \n",
    "    pred = predz.copy()"
   ]
  },
  {
   "cell_type": "code",
   "execution_count": 190,
   "id": "conventional-likelihood",
   "metadata": {
    "scrolled": true
   },
   "outputs": [
    {
     "name": "stdout",
     "output_type": "stream",
     "text": [
      "planned_process | gene_expression | positive_regulation | localization | negative_regulation | growth\n",
      "\n",
      "The types of events in this text are negative_regulation, localization, gene_expression, growth, positive_regulation, planned_process\n",
      "**************************\n",
      "metastases | results | inhibition | mediated | transfer | expression | growth\n",
      "\n",
      "The event triggers in this text are mediated, inhibition, growth, metastases, transfer, expression\n",
      "**************************\n",
      "inhibition->negative_regulation | transfer->planned_process | mediated->positive_regulation | expression->gene_expression | metastases->localization | growth->growth | results->positive_regulation\n",
      "\n",
      "The event triggers and their types in this text are: growth is a trigger of type growth, inhibition is a trigger of type negative_regulation, expression is a trigger of type gene_expression, transfer is a trigger of type planned_process, results is a trigger of type positive_regulation, mediated is a trigger of type positive_regulation, metastases is a trigger of type localization\n"
     ]
    }
   ],
   "source": [
    "print(gold[0]+'\\n\\n'+pred[0])\n",
    "print('**************************')\n",
    "print(gold[1]+'\\n\\n'+pred[1])\n",
    "print('**************************')\n",
    "print(gold[2]+'\\n\\n'+pred[2])"
   ]
  },
  {
   "cell_type": "code",
   "execution_count": 191,
   "id": "statistical-intervention",
   "metadata": {},
   "outputs": [],
   "source": [
    "\n",
    "if('verb' in predfolder):\n",
    "    p1 = pred.str.replace('The types of events in this text are ','').str.replace('The event triggers in this text are ','').str.replace('Events in this text: ','').str.replace('The event triggers and their types in this text are: ','')\n",
    "    p2 = p1.str.replace(' is a trigger of type ','->').str.replace(',',' |')\n",
    "    pred = p2"
   ]
  },
  {
   "cell_type": "code",
   "execution_count": null,
   "id": "hundred-worker",
   "metadata": {},
   "outputs": [],
   "source": []
  },
  {
   "cell_type": "code",
   "execution_count": 192,
   "id": "pleased-japan",
   "metadata": {},
   "outputs": [
    {
     "name": "stdout",
     "output_type": "stream",
     "text": [
      "planned_process | gene_expression | positive_regulation | localization | negative_regulation | growth\n",
      "\n",
      "negative_regulation | localization | gene_expression | growth | positive_regulation | planned_process\n",
      "**************************\n",
      "metastases | results | inhibition | mediated | transfer | expression | growth\n",
      "\n",
      "mediated | inhibition | growth | metastases | transfer | expression\n",
      "**************************\n",
      "inhibition->negative_regulation | transfer->planned_process | mediated->positive_regulation | expression->gene_expression | metastases->localization | growth->growth | results->positive_regulation\n",
      "\n",
      "growth->growth | inhibition->negative_regulation | expression->gene_expression | transfer->planned_process | results->positive_regulation | mediated->positive_regulation | metastases->localization\n"
     ]
    }
   ],
   "source": [
    "print(gold[0]+'\\n\\n'+pred[0])\n",
    "print('**************************')\n",
    "print(gold[1]+'\\n\\n'+pred[1])\n",
    "print('**************************')\n",
    "print(gold[2]+'\\n\\n'+pred[2])"
   ]
  },
  {
   "cell_type": "code",
   "execution_count": null,
   "id": "productive-louis",
   "metadata": {},
   "outputs": [],
   "source": []
  },
  {
   "cell_type": "code",
   "execution_count": 193,
   "id": "respected-basketball",
   "metadata": {},
   "outputs": [],
   "source": [
    "def div(a,b):\n",
    "    if b==0:\n",
    "        return 0;\n",
    "    else:\n",
    "        return a/b"
   ]
  },
  {
   "cell_type": "code",
   "execution_count": 194,
   "id": "bearing-question",
   "metadata": {},
   "outputs": [
    {
     "data": {
      "text/plain": [
       "\"def macro(gold,pred,task,dataset):\\n    classes=[]\\n    f1s=[]\\n    for i,r in clfs.iterrows():\\n        c = [p.strip() for p in r[relcol].split('|')]\\n        classes+=c\\n        \\n    print(pd.Series(classes).nunique(), ' unique classes')\\n    cdt = {key: [] for key in classes}\\n    \\n    for cf in classes:\\n        print('cf ',cf)\\n        indxs = clfs[clfs[relcol].str.contains(cf)].index\\n                \\n    \\n    print('avged f1 across classes: ',np.sum(f1s)/len(f1s))\\n    ### get clf list from ev-clf dataset.split on '|' and strip\\n    ### get values by adding lists and getting unique\\n    ### for each class, get indices (will be same for evex and evclf? added in same order right).\\n    ##### dict. classname:[indices]\\n    ### for those sentences run scoring()\\n    ### average over all classes.\""
      ]
     },
     "execution_count": 194,
     "metadata": {},
     "output_type": "execute_result"
    }
   ],
   "source": [
    "'''def macro(gold,pred,task,dataset):\n",
    "    classes=[]\n",
    "    f1s=[]\n",
    "    for i,r in clfs.iterrows():\n",
    "        c = [p.strip() for p in r[relcol].split('|')]\n",
    "        classes+=c\n",
    "        \n",
    "    print(pd.Series(classes).nunique(), ' unique classes')\n",
    "    cdt = {key: [] for key in classes}\n",
    "    \n",
    "    for cf in classes:\n",
    "        print('cf ',cf)\n",
    "        indxs = clfs[clfs[relcol].str.contains(cf)].index\n",
    "                \n",
    "    \n",
    "    print('avged f1 across classes: ',np.sum(f1s)/len(f1s))\n",
    "    ### get clf list from ev-clf dataset.split on '|' and strip\n",
    "    ### get values by adding lists and getting unique\n",
    "    ### for each class, get indices (will be same for evex and evclf? added in same order right).\n",
    "    ##### dict. classname:[indices]\n",
    "    ### for those sentences run scoring()\n",
    "    ### average over all classes.'''"
   ]
  },
  {
   "cell_type": "code",
   "execution_count": 195,
   "id": "patent-costume",
   "metadata": {},
   "outputs": [],
   "source": [
    "def scoring(gold,pred,task,indices=None,verbose=True,skipneg=True):\n",
    "    tp = 0\n",
    "    predn=0\n",
    "    goldn=0\n",
    "    skipped=0\n",
    "    \n",
    "    x=0\n",
    "    cor=[]\n",
    "    posind=[]\n",
    "\n",
    "    for ind,row in enumerate(pred):\n",
    "        #row = row.replace(': ','->')\n",
    "        \n",
    "        if(row=='->'):\n",
    "            row='NONE'\n",
    "        if(indices is not None):\n",
    "            gold2 = gold[indices[x]]\n",
    "        x+=1\n",
    "        \n",
    "        if(str(gold2)=='nan'):\n",
    "            gold2=''\n",
    "        \n",
    "        '''\n",
    "        if(gold2=='NONE'):\n",
    "            continue\n",
    "        '''\n",
    "        \n",
    "        posind.append(ind)    \n",
    "        row = row.split('|')\n",
    "        gold2 = gold2.split('|')\n",
    "        \n",
    "        \n",
    "        gold2 = [g.strip() for g in gold2]\n",
    "        row = [g.strip() for g in row]\n",
    "        \n",
    "        r2 = row.copy()\n",
    "        g2 = gold2.copy()\n",
    "        \n",
    "        #print(gold2,'\\n\\n',row)\n",
    "        #break\n",
    "        r2 = [r for r in row if len(r)>1]\n",
    "        \n",
    "        \n",
    "        #gold[i] = str(gold[i]).split(' |')\n",
    "        \n",
    "        if(task=='EV-CLF'):\n",
    "            row = list(set(row))\n",
    "            gold2 = list(set(gold2))\n",
    "            \n",
    "        row.sort()\n",
    "        gold2.sort()\n",
    "        cor.append(row==gold2)\n",
    "        \n",
    "        if(skipneg and gold2[0]=='NONE'):\n",
    "            skipped+=1\n",
    "            continue\n",
    "\n",
    "        \n",
    "        for elem in row:\n",
    "            if(len(elem)<1):\n",
    "                continue\n",
    "            \n",
    "                \n",
    "            \n",
    "            if(elem in gold2): # exact phrase present\n",
    "                tp+=1\n",
    "\n",
    "            \n",
    "                \n",
    "                # NEW\n",
    "                gold2.remove(elem)\n",
    "            \n",
    "        gold2 = g2.copy()\n",
    "        for g in gold2: # part of pred phrase present in gold\n",
    "            if(len(g)<1):\n",
    "                continue\n",
    "            \n",
    "        \n",
    "        predn+=len(row)-len([p for p in row if len(p)<1])\n",
    "        goldn+=len(gold2)-len([p for p in gold2 if len(p)<1])\n",
    "        #print('tp: ',tp,' predn: ',predn,' goldn: ',goldn)\n",
    "        #print('tp_rel: ',tp_relaxed)\n",
    "        #print('tp_rel2: ',tp_relaxed2)\n",
    "\n",
    "    p = div(tp,predn)\n",
    "    r = div(tp,goldn)\n",
    "    f1 = div(2*p*r,(p+r))\n",
    "\n",
    "    if(verbose):\n",
    "        print('skipped: ',skipped)\n",
    "        print('\\nPrecision: ',p,'\\nRecall: ',r,'\\nF1-score: ',f1)\n",
    "\n",
    "    \n",
    "    '''\n",
    "    prel = div(tp_relaxed,predn)\n",
    "    rrel = div(tp_relaxed,goldn)\n",
    "    f1rel = div(2*prel*rrel,(prel+rrel))\n",
    "    \n",
    "    print('\\nRELAXED SCORING 1\\nPrecision: ',prel,'\\nRecall: ',rrel,'\\nF1-score: ',f1rel)\n",
    "\n",
    "    prel2 = div(tp_relaxed2,predn)\n",
    "    rrel2 = div(tp_relaxed2,goldn)\n",
    "    f1rel2 = div(2*prel2*rrel2,(prel2+rrel2))\n",
    "\n",
    "    print('\\nRELAXED SCORING 2\\nPrecision: ',prel2,'\\nRecall: ',rrel2,'\\nF1-score: ',f1rel2)\n",
    "    '''\n",
    "    return posind,cor,p,r,f1"
   ]
  },
  {
   "cell_type": "code",
   "execution_count": null,
   "id": "mexican-jumping",
   "metadata": {},
   "outputs": [],
   "source": []
  },
  {
   "cell_type": "code",
   "execution_count": 196,
   "id": "dietary-revelation",
   "metadata": {
    "scrolled": false
   },
   "outputs": [
    {
     "name": "stdout",
     "output_type": "stream",
     "text": [
      "------------------------------------------\n",
      "dataset:  mlee_processed_sent\n",
      "------------------------------------------\n",
      "subtask:  EV-CLF\n",
      "875 875\n",
      "skipped:  172\n",
      "\n",
      "Precision:  0.8223684210526315 \n",
      "Recall:  0.8121677495569994 \n",
      "F1-score:  0.8172362555720654\n",
      "skipped:  0\n",
      "\n",
      "Precision:  0.8096008629989212 \n",
      "Recall:  0.8048257372654155 \n",
      "F1-score:  0.8072062382360848\n",
      "875 875 875 875 875\n",
      "------------------------------------------\n",
      "subtask:  EV-ID\n",
      "875 875\n",
      "skipped:  172\n",
      "\n",
      "Precision:  0.7912957467853611 \n",
      "Recall:  0.7916872835230084 \n",
      "F1-score:  0.7914914667326243\n",
      "skipped:  0\n",
      "\n",
      "Precision:  0.78125 \n",
      "Recall:  0.786593707250342 \n",
      "F1-score:  0.7839127471029311\n",
      "875 875 875 875 875\n",
      "------------------------------------------\n",
      "subtask:  EV-EX\n",
      "875 875\n",
      "skipped:  172\n",
      "\n",
      "Precision:  0.7417315175097277 \n",
      "Recall:  0.7545769421078674 \n",
      "F1-score:  0.7480990924699534\n",
      "skipped:  0\n",
      "\n",
      "Precision:  0.7347302719572002 \n",
      "Recall:  0.7514819881440948 \n",
      "F1-score:  0.7430117222723174\n",
      "875 875 875 875 875\n"
     ]
    }
   ],
   "source": [
    "if('dataset' not in golddf.columns):\n",
    "    golddf['dataset'] = ds\n",
    "\n",
    "for dataset in golddf['dataset'].unique():\n",
    "    \n",
    "    pdfs=[]\n",
    "    print('------------------------------------------')\n",
    "    print('dataset: ',dataset)\n",
    "    \n",
    "    df1 = golddf[golddf['dataset']==dataset]\n",
    "    if('subtask' not in df1.columns):\n",
    "        df1['subtask'] = ['EV-EX']*len(df1)\n",
    "    for task in df1['subtask'].unique():\n",
    "        print('------------------------------------------')\n",
    "        print('subtask: ',task)\n",
    "        \n",
    "        # get list of indices and mask on pred\n",
    "        \n",
    "        #print(df2.index)\n",
    "        #print(len(df2),len(pred[df2.index]))\n",
    "        df2 = df1[df1['subtask']==task] # GOLD\n",
    "        g = df2[relcol]\n",
    "        ds = df2['dataset']\n",
    "        txt = df2['text']\n",
    "        \n",
    "        p = pd.Series(pred)[df2.index]\n",
    "        \n",
    "        print(len(g),len(p))\n",
    "    \n",
    "        #print(g,p)\n",
    "        posind,cor,_,_,_ = scoring(g,p,indices=df2.index,task=task,skipneg=True)\n",
    "        \n",
    "        posind1,cor1,_,_,_ = scoring(g,p,indices=df2.index,task=task,skipneg=False)\n",
    "        \n",
    "        ofile = 'results/'+predfolder+'/'+task+'_'+dataset+'.csv'\n",
    "        print(len(p),len(g),len(cor),len(ds),len(txt))\n",
    "        \n",
    "        \n",
    "        pdf = pd.DataFrame(data={'pred':p,'gold':g,'correct':cor,'dataset':ds,'text':txt})\n",
    "        \n",
    "        if(use_sent_mask):\n",
    "            pdf['pred_unmask'] = pd.Series(pred_o)[df2.index]\n",
    "        pdfs.append(pdf)\n",
    "        \n",
    "           \n",
    "    \n",
    "        \n",
    "        \n",
    "        '''\n",
    "        if(task=='EV-CLF'):\n",
    "            ct=0\n",
    "            for i,r in pdf.iterrows():\n",
    "                ct+='.'.join(r['pred'].split('.')[0:-1]) == '.'.join(r['gold'][0].split('.')[0:-1])\n",
    "                #print('.'.join(r['pred'].split('.')[0:-1]))\n",
    "                #print('.'.join(r['gold'][0].split('.')[0:-1]))\n",
    "            print(ct/len(pdf))\n",
    "        '''\n",
    "        #pdf = pd.concat(pdfs)\n",
    "        pdf.to_csv(ofile,index=False)\n"
   ]
  },
  {
   "cell_type": "code",
   "execution_count": 197,
   "id": "written-scenario",
   "metadata": {},
   "outputs": [
    {
     "data": {
      "text/plain": [
       "'multitask4mixbidspec2verbose2_prin_ml_1024_50_4bs_2DAYS'"
      ]
     },
     "execution_count": 197,
     "metadata": {},
     "output_type": "execute_result"
    }
   ],
   "source": [
    "predfolder"
   ]
  },
  {
   "cell_type": "code",
   "execution_count": null,
   "id": "dramatic-building",
   "metadata": {},
   "outputs": [],
   "source": []
  },
  {
   "cell_type": "code",
   "execution_count": 198,
   "id": "actual-clothing",
   "metadata": {},
   "outputs": [
    {
     "data": {
      "text/plain": [
       "(875, 875)"
      ]
     },
     "execution_count": 198,
     "metadata": {},
     "output_type": "execute_result"
    }
   ],
   "source": [
    "len(txt),txt.nunique()"
   ]
  },
  {
   "cell_type": "code",
   "execution_count": 199,
   "id": "engaging-ranch",
   "metadata": {},
   "outputs": [
    {
     "data": {
      "text/plain": [
       "703"
      ]
     },
     "execution_count": 199,
     "metadata": {},
     "output_type": "execute_result"
    }
   ],
   "source": [
    "len([p for p in g if 'NONE' not in p])"
   ]
  },
  {
   "cell_type": "code",
   "execution_count": null,
   "id": "impressed-passion",
   "metadata": {},
   "outputs": [],
   "source": []
  },
  {
   "cell_type": "code",
   "execution_count": 200,
   "id": "sharing-heather",
   "metadata": {},
   "outputs": [],
   "source": [
    "train_res = pd.read_json('results/'+predfolder+'/train_results.json',typ='series')\n",
    "state = pd.read_json('results/'+predfolder+'/trainer_state.json')"
   ]
  },
  {
   "cell_type": "code",
   "execution_count": 201,
   "id": "blond-coordination",
   "metadata": {},
   "outputs": [
    {
     "data": {
      "text/html": [
       "<div>\n",
       "<style scoped>\n",
       "    .dataframe tbody tr th:only-of-type {\n",
       "        vertical-align: middle;\n",
       "    }\n",
       "\n",
       "    .dataframe tbody tr th {\n",
       "        vertical-align: top;\n",
       "    }\n",
       "\n",
       "    .dataframe thead th {\n",
       "        text-align: right;\n",
       "    }\n",
       "</style>\n",
       "<table border=\"1\" class=\"dataframe\">\n",
       "  <thead>\n",
       "    <tr style=\"text-align: right;\">\n",
       "      <th></th>\n",
       "      <th>epoch</th>\n",
       "      <th>learning_rate</th>\n",
       "      <th>loss</th>\n",
       "      <th>step</th>\n",
       "      <th>total_flos</th>\n",
       "      <th>train_loss</th>\n",
       "      <th>train_runtime</th>\n",
       "      <th>train_samples_per_second</th>\n",
       "      <th>train_steps_per_second</th>\n",
       "    </tr>\n",
       "  </thead>\n",
       "  <tbody>\n",
       "    <tr>\n",
       "      <th>0</th>\n",
       "      <td>1.52</td>\n",
       "      <td>0.000048</td>\n",
       "      <td>0.4011</td>\n",
       "      <td>500</td>\n",
       "      <td>NaN</td>\n",
       "      <td>NaN</td>\n",
       "      <td>NaN</td>\n",
       "      <td>NaN</td>\n",
       "      <td>NaN</td>\n",
       "    </tr>\n",
       "    <tr>\n",
       "      <th>1</th>\n",
       "      <td>3.04</td>\n",
       "      <td>0.000047</td>\n",
       "      <td>0.2306</td>\n",
       "      <td>1000</td>\n",
       "      <td>NaN</td>\n",
       "      <td>NaN</td>\n",
       "      <td>NaN</td>\n",
       "      <td>NaN</td>\n",
       "      <td>NaN</td>\n",
       "    </tr>\n",
       "    <tr>\n",
       "      <th>2</th>\n",
       "      <td>4.56</td>\n",
       "      <td>0.000045</td>\n",
       "      <td>0.1791</td>\n",
       "      <td>1500</td>\n",
       "      <td>NaN</td>\n",
       "      <td>NaN</td>\n",
       "      <td>NaN</td>\n",
       "      <td>NaN</td>\n",
       "      <td>NaN</td>\n",
       "    </tr>\n",
       "    <tr>\n",
       "      <th>3</th>\n",
       "      <td>6.08</td>\n",
       "      <td>0.000044</td>\n",
       "      <td>0.1527</td>\n",
       "      <td>2000</td>\n",
       "      <td>NaN</td>\n",
       "      <td>NaN</td>\n",
       "      <td>NaN</td>\n",
       "      <td>NaN</td>\n",
       "      <td>NaN</td>\n",
       "    </tr>\n",
       "    <tr>\n",
       "      <th>4</th>\n",
       "      <td>7.60</td>\n",
       "      <td>0.000042</td>\n",
       "      <td>0.1273</td>\n",
       "      <td>2500</td>\n",
       "      <td>NaN</td>\n",
       "      <td>NaN</td>\n",
       "      <td>NaN</td>\n",
       "      <td>NaN</td>\n",
       "      <td>NaN</td>\n",
       "    </tr>\n",
       "  </tbody>\n",
       "</table>\n",
       "</div>"
      ],
      "text/plain": [
       "   epoch  learning_rate    loss  step  total_flos  train_loss  train_runtime  \\\n",
       "0   1.52       0.000048  0.4011   500         NaN         NaN            NaN   \n",
       "1   3.04       0.000047  0.2306  1000         NaN         NaN            NaN   \n",
       "2   4.56       0.000045  0.1791  1500         NaN         NaN            NaN   \n",
       "3   6.08       0.000044  0.1527  2000         NaN         NaN            NaN   \n",
       "4   7.60       0.000042  0.1273  2500         NaN         NaN            NaN   \n",
       "\n",
       "   train_samples_per_second  train_steps_per_second  \n",
       "0                       NaN                     NaN  \n",
       "1                       NaN                     NaN  \n",
       "2                       NaN                     NaN  \n",
       "3                       NaN                     NaN  \n",
       "4                       NaN                     NaN  "
      ]
     },
     "execution_count": 201,
     "metadata": {},
     "output_type": "execute_result"
    }
   ],
   "source": [
    "epwiseloss = pd.DataFrame(list(state['log_history']))\n",
    "epwiseloss.head()"
   ]
  },
  {
   "cell_type": "code",
   "execution_count": 202,
   "id": "affected-armor",
   "metadata": {},
   "outputs": [
    {
     "name": "stdout",
     "output_type": "stream",
     "text": [
      "multitask4mixbidspec2verbose2_prin_ml_1024_50_4bs_2DAYS\n",
      "{'epoch': 50.0, 'step': 16450, 'total_flos': 1.102800094182604e+17, 'train_loss': 0.067719119022682, 'train_runtime': 10003.1839, 'train_samples_per_second': 26.302, 'train_steps_per_second': 1.6440000000000001}\n"
     ]
    },
    {
     "data": {
      "image/png": "[encoded data removed]",
      "text/plain": [
       "<Figure size 1224x504 with 2 Axes>"
      ]
     },
     "metadata": {
      "needs_background": "light"
     },
     "output_type": "display_data"
    }
   ],
   "source": [
    "print(predfolder)\n",
    "print(state['log_history'].iloc[-1])\n",
    "epwiseloss.plot(x='epoch',y=['loss','learning_rate'],kind='line',secondary_y='learning_rate',figsize=(17,7))\n",
    "plt.xticks(np.arange(0,101,5))\n",
    "plt.show()"
   ]
  },
  {
   "cell_type": "code",
   "execution_count": null,
   "id": "supreme-victoria",
   "metadata": {},
   "outputs": [],
   "source": []
  },
  {
   "cell_type": "code",
   "execution_count": 203,
   "id": "accepted-associate",
   "metadata": {},
   "outputs": [
    {
     "data": {
      "text/plain": [
       "8     0.0781\n",
       "9     0.0694\n",
       "10    0.0637\n",
       "11    0.0573\n",
       "12    0.0521\n",
       "13    0.0476\n",
       "14    0.0436\n",
       "15    0.0413\n",
       "16    0.0369\n",
       "17    0.0352\n",
       "18    0.0330\n",
       "19    0.0286\n",
       "20    0.0276\n",
       "21    0.0258\n",
       "22    0.0243\n",
       "23    0.0221\n",
       "24    0.0214\n",
       "25    0.0201\n",
       "26    0.0188\n",
       "27    0.0176\n",
       "28    0.0169\n",
       "29    0.0165\n",
       "30    0.0154\n",
       "31    0.0156\n",
       "32       NaN\n",
       "Name: loss, dtype: float64"
      ]
     },
     "execution_count": 203,
     "metadata": {},
     "output_type": "execute_result"
    }
   ],
   "source": [
    "epwiseloss['loss'].iloc[-25:]"
   ]
  },
  {
   "cell_type": "code",
   "execution_count": null,
   "id": "secret-corruption",
   "metadata": {},
   "outputs": [],
   "source": []
  },
  {
   "cell_type": "code",
   "execution_count": null,
   "id": "everyday-aurora",
   "metadata": {},
   "outputs": [],
   "source": []
  }
 ],
 "metadata": {
  "kernelspec": {
   "display_name": "Python 3",
   "language": "python",
   "name": "python3"
  },
  "language_info": {
   "codemirror_mode": {
    "name": "ipython",
    "version": 3
   },
   "file_extension": ".py",
   "mimetype": "text/x-python",
   "name": "python",
   "nbconvert_exporter": "python",
   "pygments_lexer": "ipython3",
   "version": "3.8.5"
  }
 },
 "nbformat": 4,
 "nbformat_minor": 5
}
