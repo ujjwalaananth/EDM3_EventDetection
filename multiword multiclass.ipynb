{
 "cells": [
  {
   "cell_type": "code",
   "execution_count": 1,
   "id": "solid-positive",
   "metadata": {},
   "outputs": [],
   "source": [
    "import pandas as pd\n",
    "import numpy as np\n",
    "import jsonlines\n",
    "import json\n",
    "import os\n",
    "import re\n",
    "import matplotlib.pyplot as plt\n",
    "from sklearn.metrics import classification_report"
   ]
  },
  {
   "cell_type": "code",
   "execution_count": 194,
   "id": "gross-greenhouse",
   "metadata": {},
   "outputs": [],
   "source": [
    "\n",
    "predfolder = 'multitask4mix_prin_rams_1024_50_1bs_2DAYS'\n",
    "goldfolder = 'multitask4mix_bi'\n",
    "\n",
    "\n",
    "#lab='src21'\n",
    "lab=''\n",
    "relcol='src_label'\n",
    "\n",
    "golddf = pd.read_csv(goldfolder+'/testrams.csv')\n",
    "#golddf = pd.read_csv(goldfolder+'/test.csv')\n",
    "#clfs = pd.read_csv(goldfolder+'/testcasieevclf.csv')\n",
    "\n",
    "\n",
    "ds = ''\n",
    "gold = golddf[relcol]\n",
    "#txt = golddf['text']\n",
    "#gold=gtype\n",
    "\n",
    "if('FIXED' not in predfolder):\n",
    "    pred = open('results/'+predfolder+'/generated_predictions.txt').readlines()\n",
    "    pred = [p[2:-2] for p in pred] # removing b' prefix and \\n suffix\n",
    "if(using_binary_clf_top):\n",
    "    pred = open('results/'+predfolder+'/generated_predictions_new.txt').readlines()\n",
    "    print('fixed')\n",
    "    \n",
    "if('seq3' in predfolder):\n",
    "    pred = pd.read_csv('results/'+predfolder+'/compare_top_3.csv')['top_1']\n",
    "    \n",
    "pred = pd.Series(pred)\n",
    "labelsep = ' | ' # separates multiple entity+type combos\n",
    "\n",
    "termsep = '->' # separates entity and type"
   ]
  },
  {
   "cell_type": "code",
   "execution_count": 195,
   "id": "entire-roller",
   "metadata": {},
   "outputs": [
    {
     "data": {
      "text/plain": [
       "\"predz=[]\\nsb = golddf['subtask']\\n\\nif('src21' in predfolder or lab=='src21'):\\n    ## reversed outputs/ convert to src_label1 format\\n    \\n    for p in pred:\\n        fin=[]\\n        events = [x.strip() for x in p.split('|')]\\n        for e in events:\\n            #print(e)\\n            if('->' not in e):\\n                typ,trigs=['','']\\n            else:\\n                typ,trigs=e.split('->')[0:2]\\n            \\n            for tg in trigs.split('@'):\\n                fin.append(tg+'->'+typ)\\n        if(p.strip()=='->'):\\n            predz.append('NONE')\\n        else:\\n            predz.append(' | '.join(fin))\\n        \\n    pred = predz.copy()\\n\\n    \\nif('src12' in predfolder or lab=='src12'):\\n    \\n    for idx,p in enumerate(pred):\\n        nm=[]\\n        if('NONE' in p):\\n            predz.append('NONE')\\n            continue\\n        \\n        if('EV-EX' not in sb[idx]):\\n            predz.append(p)\\n            continue\\n        events = [x.strip() for x in p.split('|')]\\n        #print(events,sb.iloc[idx])\\n        for e in events:\\n            if('->' not in e):\\n                continue\\n            tg = e.split('->')[0]\\n            tps = e.split('->')[1].split('@')\\n            nm += [tg+'->'+p for p in tps]\\n        if(len(nm)==0):\\n            nm = ['NONE']\\n        predz.append(' | '.join(nm))\\n        \\n    pred = predz.copy()\""
      ]
     },
     "execution_count": 195,
     "metadata": {},
     "output_type": "execute_result"
    }
   ],
   "source": [
    "'''predz=[]\n",
    "sb = golddf['subtask']\n",
    "\n",
    "if('src21' in predfolder or lab=='src21'):\n",
    "    ## reversed outputs/ convert to src_label1 format\n",
    "    \n",
    "    for p in pred:\n",
    "        fin=[]\n",
    "        events = [x.strip() for x in p.split('|')]\n",
    "        for e in events:\n",
    "            #print(e)\n",
    "            if('->' not in e):\n",
    "                typ,trigs=['','']\n",
    "            else:\n",
    "                typ,trigs=e.split('->')[0:2]\n",
    "            \n",
    "            for tg in trigs.split('@'):\n",
    "                fin.append(tg+'->'+typ)\n",
    "        if(p.strip()=='->'):\n",
    "            predz.append('NONE')\n",
    "        else:\n",
    "            predz.append(' | '.join(fin))\n",
    "        \n",
    "    pred = predz.copy()\n",
    "\n",
    "    \n",
    "if('src12' in predfolder or lab=='src12'):\n",
    "    \n",
    "    for idx,p in enumerate(pred):\n",
    "        nm=[]\n",
    "        if('NONE' in p):\n",
    "            predz.append('NONE')\n",
    "            continue\n",
    "        \n",
    "        if('EV-EX' not in sb[idx]):\n",
    "            predz.append(p)\n",
    "            continue\n",
    "        events = [x.strip() for x in p.split('|')]\n",
    "        #print(events,sb.iloc[idx])\n",
    "        for e in events:\n",
    "            if('->' not in e):\n",
    "                continue\n",
    "            tg = e.split('->')[0]\n",
    "            tps = e.split('->')[1].split('@')\n",
    "            nm += [tg+'->'+p for p in tps]\n",
    "        if(len(nm)==0):\n",
    "            nm = ['NONE']\n",
    "        predz.append(' | '.join(nm))\n",
    "        \n",
    "    pred = predz.copy()'''"
   ]
  },
  {
   "cell_type": "code",
   "execution_count": 196,
   "id": "seeing-supplement",
   "metadata": {},
   "outputs": [
    {
     "name": "stdout",
     "output_type": "stream",
     "text": [
      "2310 2310\n"
     ]
    }
   ],
   "source": [
    "print(len(gold),len(pred))"
   ]
  },
  {
   "cell_type": "code",
   "execution_count": 197,
   "id": "continued-aerospace",
   "metadata": {},
   "outputs": [
    {
     "name": "stdout",
     "output_type": "stream",
     "text": [
      "contact.prevarication\n",
      "\n",
      "contact.prevarication\n",
      "**************************\n",
      "deceive\n",
      "\n",
      "deceive\n",
      "**************************\n",
      "deceive->contact.prevarication\n",
      "\n",
      "deceive->contact.prevarication\n"
     ]
    }
   ],
   "source": [
    "print(gold[0]+'\\n\\n'+pred[0])\n",
    "print('**************************')\n",
    "print(gold[1]+'\\n\\n'+pred[1])\n",
    "print('**************************')\n",
    "print(gold[2]+'\\n\\n'+pred[2])"
   ]
  },
  {
   "cell_type": "code",
   "execution_count": 198,
   "id": "lovely-playing",
   "metadata": {},
   "outputs": [],
   "source": [
    "### get all evex\n",
    "idx = golddf[golddf.subtask=='EV-EX'].index\n",
    "gold = gold[idx]\n",
    "pred = pred[idx]"
   ]
  },
  {
   "cell_type": "code",
   "execution_count": 199,
   "id": "further-virgin",
   "metadata": {},
   "outputs": [
    {
     "name": "stdout",
     "output_type": "stream",
     "text": [
      "deceive->contact.prevarication\n",
      "\n",
      "deceive->contact.prevarication\n",
      "**************************\n"
     ]
    },
    {
     "data": {
      "text/plain": [
       "(770, 770)"
      ]
     },
     "execution_count": 199,
     "metadata": {},
     "output_type": "execute_result"
    }
   ],
   "source": [
    "print(gold[2]+'\\n\\n'+pred[2])\n",
    "print('**************************')\n",
    "len(gold),len(pred)"
   ]
  },
  {
   "cell_type": "code",
   "execution_count": 200,
   "id": "numerical-tourist",
   "metadata": {},
   "outputs": [
    {
     "name": "stdout",
     "output_type": "stream",
     "text": [
      "smuggled->movement.transportperson\n",
      "\n",
      "smuggled->movement.transportartifact\n"
     ]
    },
    {
     "data": {
      "text/plain": [
       "(770, 770)"
      ]
     },
     "execution_count": 200,
     "metadata": {},
     "output_type": "execute_result"
    }
   ],
   "source": [
    "gold = list(gold)\n",
    "pred = list(pred)\n",
    "print(gold[2]+'\\n\\n'+pred[2])\n",
    "len(gold),len(pred)"
   ]
  },
  {
   "cell_type": "markdown",
   "id": "unlimited-residence",
   "metadata": {},
   "source": [
    "### Multi-word"
   ]
  },
  {
   "cell_type": "code",
   "execution_count": 201,
   "id": "stuffed-forestry",
   "metadata": {},
   "outputs": [
    {
     "name": "stdout",
     "output_type": "stream",
     "text": [
      "MULTIWORD ACCURACY:\n",
      "88.88888888888889\n",
      "pred:  16\n",
      "all:  18\n",
      "88.88888888888889\n",
      "['death penalty', 'winning election', 'brings in', 'took over', 'take over', 'death penalty', 'passed away', 'signed into law', 'signed into law', 'land grab']\n",
      "['death penalty', 'winning election', 'brings in', 'take over', 'death penalty', 'passed away', 'signed into law', 'signed into law', 'land grab', 'land grabs']\n"
     ]
    }
   ],
   "source": [
    "allt=[]\n",
    "alluni=[]\n",
    "corrt=[]\n",
    "corruni=[]\n",
    "for i,elem in enumerate(gold):\n",
    "    trigsg = [p.split('->')[0].strip() for p in gold[i].split('|')]\n",
    "    trigsp = [p.split('->')[0].strip() for p in pred[i].split('|')]\n",
    "    \n",
    "    #mwt \n",
    "    trigsg= [p for p in trigsg if len(p.split())>1]\n",
    "    tuni = list(set(trigsg))\n",
    "    alluni+=tuni\n",
    "    allt+=trigsg\n",
    "    corrt+=[p for p in trigsp if p in trigsg]\n",
    "    corruni+=[p for p in trigsp if p in tuni]\n",
    "    \n",
    "print('MULTIWORD ACCURACY:')\n",
    "print(100*len(corrt)/len(allt))\n",
    "print('pred: ',len(corrt))\n",
    "print('all: ',len(allt))\n",
    "\n",
    "print(100*len(corruni)/len(alluni))\n",
    "#print('pred: ',len(corrt))\n",
    "#print('all: ',len(allt))\n",
    "\n",
    "\n",
    "print(allt[0:10])\n",
    "print(corrt[0:10])\n",
    "\n",
    "\n",
    "## rams: 88.88%\n",
    "## mave: 90.84%\n",
    "## wiki: 44.44%"
   ]
  },
  {
   "cell_type": "code",
   "execution_count": null,
   "id": "massive-replica",
   "metadata": {},
   "outputs": [],
   "source": []
  },
  {
   "cell_type": "code",
   "execution_count": null,
   "id": "contemporary-private",
   "metadata": {},
   "outputs": [],
   "source": []
  },
  {
   "cell_type": "markdown",
   "id": "egyptian-albert",
   "metadata": {},
   "source": [
    "### Multiclass triggers"
   ]
  },
  {
   "cell_type": "code",
   "execution_count": 4,
   "id": "christian-banner",
   "metadata": {},
   "outputs": [],
   "source": [
    "#gold\n",
    "import pandas as pd\n",
    "import numpy as np\n",
    "import jsonlines\n",
    "import json\n",
    "import os\n",
    "import re\n",
    "import matplotlib.pyplot as plt\n",
    "from sklearn.metrics import classification_report"
   ]
  },
  {
   "cell_type": "code",
   "execution_count": 45,
   "id": "cardiac-copyright",
   "metadata": {},
   "outputs": [],
   "source": [
    "\n",
    "predfolder = 'multitask4mix_prin_rams_1024_50_1bs_2DAYS'\n",
    "goldfolder = 'multitask4mix_bi'\n",
    "\n",
    "\n",
    "#lab='src21'\n",
    "lab=''\n",
    "relcol='src_label'\n",
    "\n",
    "golddf = pd.read_csv(goldfolder+'/testrams.csv')\n",
    "#golddf = pd.read_csv(goldfolder+'/test.csv')\n",
    "#clfs = pd.read_csv(goldfolder+'/testcasieevclf.csv')\n",
    "\n",
    "\n",
    "ds = ''\n",
    "gold = golddf[relcol]\n",
    "#txt = golddf['text']\n",
    "#gold=gtype\n",
    "\n",
    "if('FIXED' not in predfolder):\n",
    "    pred = open('results/'+predfolder+'/generated_predictions.txt').readlines()\n",
    "    pred = [p[2:-2] for p in pred] # removing b' prefix and \\n suffix\n",
    "\n",
    "    \n",
    "if('seq3' in predfolder):\n",
    "    pred = pd.read_csv('results/'+predfolder+'/compare_top_3.csv')['top_1']\n",
    "    \n",
    "pred = pd.Series(pred)\n",
    "labelsep = ' | ' # separates multiple entity+type combos\n",
    "\n",
    "termsep = '->' # separates entity and type"
   ]
  },
  {
   "cell_type": "code",
   "execution_count": 46,
   "id": "three-burns",
   "metadata": {},
   "outputs": [
    {
     "name": "stdout",
     "output_type": "stream",
     "text": [
      "smuggled->movement.transportperson\n",
      "\n",
      "smuggled->movement.transportartifact\n"
     ]
    },
    {
     "data": {
      "text/plain": [
       "(770, 770)"
      ]
     },
     "execution_count": 46,
     "metadata": {},
     "output_type": "execute_result"
    }
   ],
   "source": [
    "### get all evex\n",
    "idx = golddf[golddf.subtask=='EV-EX'].index\n",
    "gold = gold[idx]\n",
    "pred = pred[idx]\n",
    "\n",
    "gold = list(gold)\n",
    "pred = list(pred)\n",
    "print(gold[2]+'\\n\\n'+pred[2])\n",
    "len(gold),len(pred)"
   ]
  },
  {
   "cell_type": "code",
   "execution_count": 47,
   "id": "sixth-container",
   "metadata": {},
   "outputs": [
    {
     "data": {
      "text/plain": [
       "(770, 770)"
      ]
     },
     "execution_count": 47,
     "metadata": {},
     "output_type": "execute_result"
    }
   ],
   "source": [
    "len(gold),len(pred)"
   ]
  },
  {
   "cell_type": "code",
   "execution_count": 48,
   "id": "biological-liability",
   "metadata": {},
   "outputs": [
    {
     "name": "stdout",
     "output_type": "stream",
     "text": [
      "19\n",
      "tg alread here  massacre\n",
      "['massacre->conflict.attack']\n",
      "append  massacre->life.die\n",
      "49\n",
      "tg alread here  incarcerate\n",
      "['incarcerate->movement.transportperson']\n",
      "append  incarcerate->movement.transportartifact\n",
      "49\n",
      "tg alread here  incarcerate\n",
      "['incarcerate->movement.transportperson', 'incarcerate->movement.transportartifact']\n",
      "append  incarcerate->justice.arrestjaildetain\n",
      "83\n",
      "tg alread here  incarcerated\n",
      "['incarcerated->movement.transportperson']\n",
      "append  incarcerated->justice.arrestjaildetain\n",
      "130\n",
      "tg alread here  purchasing\n",
      "['purchasing->transaction.transferownership']\n",
      "append  purchasing->transaction.transfermoney\n",
      "160\n",
      "tg alread here  funded\n",
      "['funded->transaction.transaction']\n",
      "append  funded->transaction.transferownership\n",
      "161\n",
      "tg alread here  trafficking\n",
      "['trafficking->movement.transportartifact']\n",
      "append  trafficking->movement.transportperson\n",
      "164\n",
      "tg alread here  imprisoned\n",
      "['imprisoned->movement.transportperson']\n",
      "append  imprisoned->movement.transportartifact\n",
      "180\n",
      "tg alread here  executing\n",
      "['executing->justice.judicialconsequences']\n",
      "append  executing->life.die\n",
      "185\n",
      "tg alread here  shipment\n",
      "['shipment->movement.transportperson']\n",
      "append  shipment->movement.transportartifact\n",
      "190\n",
      "tg alread here  smuggled\n",
      "['smuggled->movement.transportperson']\n",
      "append  smuggled->movement.transportartifact\n",
      "191\n",
      "tg alread here  transported\n",
      "['transported->movement.transportartifact']\n",
      "append  transported->movement.transportperson\n",
      "192\n",
      "tg alread here  smuggling\n",
      "['smuggling->movement.transportperson']\n",
      "append  smuggling->movement.transportartifact\n",
      "265\n",
      "tg alread here  auctioning\n",
      "['auctioning->transaction.transfermoney']\n",
      "append  auctioning->transaction.transferownership\n",
      "281\n",
      "tg alread here  shipment\n",
      "['shipment->movement.transportperson']\n",
      "append  shipment->movement.transportartifact\n",
      "282\n",
      "tg alread here  smuggling\n",
      "['smuggling->movement.transportperson']\n",
      "append  smuggling->movement.transportartifact\n",
      "315\n",
      "tg alread here  incarcerate\n",
      "['incarcerate->movement.transportperson']\n",
      "append  incarcerate->justice.arrestjaildetain\n",
      "317\n",
      "tg alread here  embargo\n",
      "['embargo->transaction.transfermoney']\n",
      "append  embargo->transaction.transaction\n",
      "337\n",
      "tg alread here  auction\n",
      "['auction->transaction.transfermoney']\n",
      "append  auction->transaction.transferownership\n",
      "405\n",
      "tg alread here  conceal\n",
      "['conceal->movement.transportperson']\n",
      "append  conceal->movement.transportartifact\n",
      "436\n",
      "tg alread here  donated\n",
      "['donated->transaction.transfermoney']\n",
      "append  donated->transaction.transaction\n",
      "470\n",
      "tg alread here  incarcerated\n",
      "['incarcerated->movement.transportperson']\n",
      "append  incarcerated->justice.arrestjaildetain\n",
      "470\n",
      "tg alread here  incarcerated\n",
      "['incarcerated->movement.transportperson', 'incarcerated->justice.arrestjaildetain']\n",
      "append  incarcerated->movement.transportartifact\n",
      "487\n",
      "tg alread here  auctioning\n",
      "['auctioning->transaction.transfermoney']\n",
      "append  auctioning->transaction.transferownership\n",
      "572\n",
      "tg alread here  sanctions\n",
      "['sanctions->transaction.transferownership']\n",
      "append  sanctions->transaction.transfermoney\n",
      "592\n",
      "tg alread here  embargo\n",
      "['embargo->transaction.transfermoney']\n",
      "append  embargo->transaction.transferownership\n",
      "598\n",
      "tg alread here  Auction\n",
      "['Auction->transaction.transfermoney']\n",
      "append  Auction->transaction.transferownership\n",
      "770 770\n"
     ]
    }
   ],
   "source": [
    "mct = 0\n",
    "cts = 0\n",
    "mctrow = 0\n",
    "mctold=0\n",
    "\n",
    "### total accuracy\n",
    "### average accuracy. for each mc trigger, get accuracy, then average.\n",
    "\n",
    "gc=[] # list of numbre of classes\n",
    "pc=[] # list of number of preds\n",
    "\n",
    "for ix,g in enumerate(gold):\n",
    "    \n",
    "    gci=[]\n",
    "    pci=[]\n",
    "    \n",
    "    dct={}\n",
    "    mct=[]\n",
    "    \n",
    "    if('NONE' in g):\n",
    "        continue\n",
    "    \n",
    "    for pz in g.split('|'):\n",
    "        tg = pz.split('->')[0].strip()\n",
    "        \n",
    "        if(tg in dct.keys()):\n",
    "            print(ix)\n",
    "            #print(ix)\n",
    "            print('tg alread here ',tg)\n",
    "            print(dct[tg])\n",
    "            dct[tg].append(pz.strip())\n",
    "            print('append ',pz.strip())\n",
    "            mct.append(tg)\n",
    "        else:\n",
    "            #print('adding ',tg)\n",
    "            dct[tg] = [pz.strip()]\n",
    "            \n",
    "    if(len(mct)>0):\n",
    "        gci = dct[mct[0]]\n",
    "    \n",
    "    gc.append(len(gci))\n",
    "    \n",
    "    \n",
    "    pci = [d for d in gci if d in pred[ix]]\n",
    "    \n",
    "    pc.append(len(pci))\n",
    "    \n",
    "    \n",
    "    \n",
    "    '''\n",
    "    for pz in gold[ix].split('|'):\n",
    "        \n",
    "        p = pz.split('->')[0].strip()\n",
    "        if(p in dct.keys()):\n",
    "            gci.append(pz.strip())             ## list of multiclass triggers\n",
    "        else:\n",
    "            #print(ix)\n",
    "            dct[p] = True\n",
    "            \n",
    "    if(len(gci)>0):\n",
    "        print(gci)\n",
    "    else:\n",
    "        continue\n",
    "    pci=[]\n",
    "    \n",
    "    for g in gci:\n",
    "        if(g in pred[ix]):\n",
    "            pci.append(g)\n",
    "    \n",
    "    gc.append(len(gci))\n",
    "    pc.append(len(pci))'''\n",
    "    \n",
    "    ### FOUND MULTICLASS TRIGGER\n",
    "        \n",
    "print(len(gc),len(pc))\n"
   ]
  },
  {
   "cell_type": "code",
   "execution_count": 49,
   "id": "contrary-welcome",
   "metadata": {},
   "outputs": [
    {
     "data": {
      "text/plain": [
       "(770, 770)"
      ]
     },
     "execution_count": 49,
     "metadata": {},
     "output_type": "execute_result"
    }
   ],
   "source": [
    "len(gc),len(pc)"
   ]
  },
  {
   "cell_type": "code",
   "execution_count": 50,
   "id": "raised-quantity",
   "metadata": {},
   "outputs": [
    {
     "data": {
      "text/plain": [
       "0    745\n",
       "2     23\n",
       "3      2\n",
       "dtype: int64"
      ]
     },
     "execution_count": 50,
     "metadata": {},
     "output_type": "execute_result"
    }
   ],
   "source": [
    "pd.Series(gc).value_counts()"
   ]
  },
  {
   "cell_type": "code",
   "execution_count": 51,
   "id": "polish-absorption",
   "metadata": {},
   "outputs": [
    {
     "data": {
      "text/plain": [
       "49"
      ]
     },
     "execution_count": 51,
     "metadata": {},
     "output_type": "execute_result"
    }
   ],
   "source": [
    "pc.index(3)"
   ]
  },
  {
   "cell_type": "code",
   "execution_count": 52,
   "id": "still-camera",
   "metadata": {},
   "outputs": [
    {
     "data": {
      "text/plain": [
       "('incarcerate->movement.transportperson | incarcerate->movement.transportartifact | incarcerate->justice.arrestjaildetain',\n",
       " 'incarcerate->justice.arrestjaildetain | incarcerate->movement.transportperson | incarcerate->movement.transportartifact')"
      ]
     },
     "execution_count": 52,
     "metadata": {},
     "output_type": "execute_result"
    }
   ],
   "source": [
    "gold[49],pred[49]"
   ]
  },
  {
   "cell_type": "code",
   "execution_count": 64,
   "id": "special-cloud",
   "metadata": {},
   "outputs": [
    {
     "data": {
      "text/plain": [
       "array(['EV-EX</s>RAMS_doc</s>He even suggested that one leaked email , where a Politico columnist asked Podesta to fact - check part of a story he was writing , was evidence this is “ a media - rigged election . ” Unlike Clinton , Trump ’s polling numbers have only nosedived for the last two weeks since The Washington Post reported he once bragged about grabbing women “ by the pussy ” without their consent . In the last presidential debate , he promised to try to incarcerate Clinton if elected and tried to make an issue out of Bill Clinton ’s past sexual misconduct . He also said he had never sexually assaulted anyone — a remark that prompted ten women to publicly accuse him of sexual misconduct . His campaign ’s circumstances have only grown more dire since then , which means he ’s likely to feel completely liberated on the debate stage .',\n",
       "       'EV-EX</s>RAMS_doc</s>And remember : Under America ’s system , they ca n’t arrest people just because they are suspicious of them . Under our criminal - justice system , a person can not be arrested until he actually commits a crime or attempts to commit a crime . America is not like totalitarian regimes or Guantanamo , where authorities can incarcerate anyone they want for as long as they want . So , as long as the U.S. death machine is killing people over there , there are going to be people over there or over here who are going to retaliate . Get used to it .'],\n",
       "      dtype=object)"
      ]
     },
     "execution_count": 64,
     "metadata": {},
     "output_type": "execute_result"
    }
   ],
   "source": [
    "golddf[golddf.src_label.str.contains('incarcerate->movement.transportperson')]['text'].values"
   ]
  },
  {
   "cell_type": "code",
   "execution_count": null,
   "id": "caroline-brisbane",
   "metadata": {},
   "outputs": [],
   "source": []
  },
  {
   "cell_type": "code",
   "execution_count": 38,
   "id": "indirect-operation",
   "metadata": {},
   "outputs": [],
   "source": [
    "gc = pd.Series(gc)\n",
    "pc = pd.Series(pc)\n",
    "\n",
    "indices = gc[gc>1].index"
   ]
  },
  {
   "cell_type": "code",
   "execution_count": 39,
   "id": "signed-ferry",
   "metadata": {},
   "outputs": [
    {
     "data": {
      "text/plain": [
       "0"
      ]
     },
     "execution_count": 39,
     "metadata": {},
     "output_type": "execute_result"
    }
   ],
   "source": [
    "len(indices)"
   ]
  },
  {
   "cell_type": "code",
   "execution_count": 40,
   "id": "sonic-circus",
   "metadata": {},
   "outputs": [],
   "source": [
    "gc2 = gc[indices]\n",
    "pc2 = pc[indices]"
   ]
  },
  {
   "cell_type": "code",
   "execution_count": 41,
   "id": "polar-public",
   "metadata": {},
   "outputs": [
    {
     "name": "stdout",
     "output_type": "stream",
     "text": [
      "FULL ACCURACY:  nan\n",
      "AVG ACCURACY:  nan\n"
     ]
    },
    {
     "name": "stderr",
     "output_type": "stream",
     "text": [
      "<ipython-input-41-aea5a724fd5a>:1: RuntimeWarning: invalid value encountered in long_scalars\n",
      "  print('FULL ACCURACY: ',100*np.sum(pc2)/np.sum(gc2))\n",
      "<ipython-input-41-aea5a724fd5a>:3: RuntimeWarning: invalid value encountered in double_scalars\n",
      "  print('AVG ACCURACY: ',100*np.sum(indiv)/len(indiv))\n"
     ]
    }
   ],
   "source": [
    "print('FULL ACCURACY: ',100*np.sum(pc2)/np.sum(gc2))\n",
    "indiv = pc2/gc2\n",
    "print('AVG ACCURACY: ',100*np.sum(indiv)/len(indiv))"
   ]
  },
  {
   "cell_type": "code",
   "execution_count": 42,
   "id": "prospective-reservation",
   "metadata": {},
   "outputs": [
    {
     "data": {
      "text/plain": [
       "Series([], dtype: float64)"
      ]
     },
     "execution_count": 42,
     "metadata": {},
     "output_type": "execute_result"
    }
   ],
   "source": [
    "indiv"
   ]
  },
  {
   "cell_type": "code",
   "execution_count": null,
   "id": "addressed-courage",
   "metadata": {},
   "outputs": [],
   "source": [
    "### MWT for all datasets\n"
   ]
  }
 ],
 "metadata": {
  "kernelspec": {
   "display_name": "Python 3",
   "language": "python",
   "name": "python3"
  },
  "language_info": {
   "codemirror_mode": {
    "name": "ipython",
    "version": 3
   },
   "file_extension": ".py",
   "mimetype": "text/x-python",
   "name": "python",
   "nbconvert_exporter": "python",
   "pygments_lexer": "ipython3",
   "version": "3.8.5"
  }
 },
 "nbformat": 4,
 "nbformat_minor": 5
}
